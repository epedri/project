{
 "cells": [
  {
   "cell_type": "code",
   "execution_count": 5,
   "id": "2a3199d4",
   "metadata": {},
   "outputs": [],
   "source": [
    "a = ['playground_quality', \n",
    "                        'picnic_quality', \n",
    "                        'parks_quality', \n",
    "                        'sport_equipment_quality', \n",
    "                        'sport_entities_quality',\n",
    "                        'hotels_quality', \n",
    "                        'recycling_quality', \n",
    "                        'restrooms_quality', \n",
    "                        'funicular_quality', \n",
    "                        'electrocar_quality',\n",
    "                        'tracks_quality', \n",
    "                        'bicicle_quality', \n",
    "                        'roads_quality', \n",
    "                        'greens_quality',\n",
    "                        'dog_quality',\n",
    "                        'field_quality', \n",
    "                        'metro_quality', \n",
    "                        'train_quality', \n",
    "                        'theatres_quality', \n",
    "                        'museums_quality',\n",
    "                        'papelarias_quality', \n",
    "                        'monuments_quality', \n",
    "                        'malls_quality', \n",
    "                        'mercados_quality', \n",
    "                        'feiras_quality',\n",
    "                        'private_school_quality', \n",
    "                        'public_school_quality', \n",
    "                        'bombeiros_quality', \n",
    "                        'private_hospital_quality', \n",
    "                        'public_hospital_quality',\n",
    "                        'pharmacies_quality', \n",
    "                        'health_center_quality', \n",
    "                        'police_quality', \n",
    "                        'public_kindergarten_quality', \n",
    "                        'university_quality',\n",
    "                        'professionial_school_quality', \n",
    "                        'private_kindergarten_quality', \n",
    "                        'special_school_quality', \n",
    "                        \"buy_quality\",\n",
    "                        \"rent_quality\"\n",
    "                        'Shape_Leng', \n",
    "                        'Shape_Area',\n",
    "                        'geometry']"
   ]
  },
  {
   "cell_type": "code",
   "execution_count": 2,
   "id": "b9a701c6",
   "metadata": {},
   "outputs": [
    {
     "data": {
      "text/plain": [
       "Index(['FID_data', 'playground', 'picnic_qua', 'parks_qual', 'sport_equi',\n",
       "       'sport_enti', 'hotels_qua', 'recycling_', 'restrooms_', 'funiculars',\n",
       "       'electrocar', 'tracks_qua', 'bicicle_qu', 'roads_qual', 'greens_qua',\n",
       "       'dog_qualit', 'field_qual', 'metro_qual', 'train_qual', 'theatres_q',\n",
       "       'museums_qu', 'papelarias', 'monuments_', 'malls_qual', 'mercados_q',\n",
       "       'feiras_qua', 'private_sc', 'public_sch', 'bombeiros_', 'private_ho',\n",
       "       'public_hos', 'pharmacies', 'health_cen', 'police_qua', 'public_kin',\n",
       "       'university', 'profession', 'private_ki', 'special_sc', 'buy', 'rent',\n",
       "       'Shape_Leng', 'Shape_Area', 'geometry'],\n",
       "      dtype='object')"
      ]
     },
     "execution_count": 2,
     "metadata": {},
     "output_type": "execute_result"
    }
   ],
   "source": [
    "import geopandas as gpd\n",
    "df = gpd.read_file(\"data/data1.shp\")\n",
    "df.columns"
   ]
  },
  {
   "cell_type": "code",
   "execution_count": 6,
   "id": "26c03dcf",
   "metadata": {},
   "outputs": [
    {
     "data": {
      "text/plain": [
       "['playground_quality',\n",
       " 'picnic_quality',\n",
       " 'parks_quality',\n",
       " 'sport_equipment_quality',\n",
       " 'sport_entities_quality',\n",
       " 'hotels_quality',\n",
       " 'recycling_quality',\n",
       " 'restrooms_quality',\n",
       " 'funicular_quality',\n",
       " 'electrocar_quality',\n",
       " 'tracks_quality',\n",
       " 'bicicle_quality',\n",
       " 'roads_quality',\n",
       " 'greens_quality',\n",
       " 'dog_quality',\n",
       " 'field_quality',\n",
       " 'metro_quality',\n",
       " 'train_quality',\n",
       " 'theatres_quality',\n",
       " 'museums_quality',\n",
       " 'papelarias_quality',\n",
       " 'monuments_quality',\n",
       " 'malls_quality',\n",
       " 'mercados_quality',\n",
       " 'feiras_quality',\n",
       " 'private_school_quality',\n",
       " 'public_school_quality',\n",
       " 'bombeiros_quality',\n",
       " 'private_hospital_quality',\n",
       " 'public_hospital_quality',\n",
       " 'pharmacies_quality',\n",
       " 'health_center_quality',\n",
       " 'police_quality',\n",
       " 'public_kindergarten_quality',\n",
       " 'university_quality',\n",
       " 'professionial_school_quality',\n",
       " 'private_kindergarten_quality',\n",
       " 'special_school_quality',\n",
       " 'buy_quality',\n",
       " 'rent_qualityShape_Leng',\n",
       " 'Shape_Area',\n",
       " 'geometry']"
      ]
     },
     "execution_count": 6,
     "metadata": {},
     "output_type": "execute_result"
    }
   ],
   "source": [
    "a"
   ]
  }
 ],
 "metadata": {
  "kernelspec": {
   "display_name": "base",
   "language": "python",
   "name": "python3"
  },
  "language_info": {
   "codemirror_mode": {
    "name": "ipython",
    "version": 3
   },
   "file_extension": ".py",
   "mimetype": "text/x-python",
   "name": "python",
   "nbconvert_exporter": "python",
   "pygments_lexer": "ipython3",
   "version": "3.12.9"
  }
 },
 "nbformat": 4,
 "nbformat_minor": 5
}
